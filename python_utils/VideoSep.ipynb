{
 "cells": [
  {
   "cell_type": "code",
   "execution_count": 4,
   "metadata": {},
   "outputs": [
    {
     "name": "stdout",
     "output_type": "stream",
     "text": [
      "Wrote 303 frames\n",
      "Wrote 298 frames\n",
      "Wrote 300 frames\n",
      "Wrote 297 frames\n"
     ]
    }
   ],
   "source": [
    "import cv2\n",
    "import os\n",
    "\n",
    "VIDS = [\"bungee_jumping_short.mp4\", \"niagra_falls_short.mp4\", \"street_1_short.mp4\", \"street_2_short.mp4\"]\n",
    "\n",
    "BASE_DIR = \"E:\\\\\"\n",
    "\n",
    "def extract_video(video):\n",
    "    path = os.path.join(BASE_DIR, video)\n",
    "    video_no_ext = os.path.splitext(video)[0] \n",
    "    out_dir = os.path.join(BASE_DIR, video_no_ext)\n",
    "    if not os.path.exists(out_dir):\n",
    "        os.mkdir(out_dir)\n",
    "\n",
    "    vidcap = cv2.VideoCapture(path)\n",
    "    success,image = vidcap.read()\n",
    "    if success:\n",
    "        count = 0\n",
    "        while success:\n",
    "            new_frame = os.path.join(out_dir, \"frame{}.jpg\".format(count))\n",
    "            cv2.imwrite(new_frame, image)     # save frame as JPEG file      \n",
    "            success,image = vidcap.read()\n",
    "            count += 1\n",
    "        print('Wrote {} frames'.format(count))\n",
    "    else:\n",
    "        print(\"Error in video\")\n",
    "        \n",
    "for i in VIDS:\n",
    "    extract_video(i)"
   ]
  },
  {
   "cell_type": "code",
   "execution_count": null,
   "metadata": {},
   "outputs": [],
   "source": []
  },
  {
   "cell_type": "code",
   "execution_count": null,
   "metadata": {},
   "outputs": [],
   "source": []
  }
 ],
 "metadata": {
  "kernelspec": {
   "display_name": "venv",
   "language": "python",
   "name": "venv"
  },
  "language_info": {
   "codemirror_mode": {
    "name": "ipython",
    "version": 3
   },
   "file_extension": ".py",
   "mimetype": "text/x-python",
   "name": "python",
   "nbconvert_exporter": "python",
   "pygments_lexer": "ipython3",
   "version": "3.7.4"
  }
 },
 "nbformat": 4,
 "nbformat_minor": 2
}
